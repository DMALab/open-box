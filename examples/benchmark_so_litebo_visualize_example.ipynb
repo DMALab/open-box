{
 "cells": [
  {
   "cell_type": "markdown",
   "metadata": {},
   "source": [
    "# To visualize your training result\n",
    "we use `hiplot` to visualize your training result in a jupyter notebook "
   ]
  },
  {
   "cell_type": "code",
   "execution_count": 1,
   "metadata": {},
   "outputs": [
    {
     "name": "stdout",
     "output_type": "stream",
     "text": [
      "Looking in indexes: https://pypi.tuna.tsinghua.edu.cn/simple\n",
      "Requirement already satisfied: hiplot in /opt/anaconda3/envs/lite_bo/lib/python3.7/site-packages (0.1.23)\n",
      "Requirement already satisfied: flask in /opt/anaconda3/envs/lite_bo/lib/python3.7/site-packages (from hiplot) (1.1.2)\n",
      "Requirement already satisfied: ipython>=7.0.1 in /opt/anaconda3/envs/lite_bo/lib/python3.7/site-packages (from hiplot) (7.19.0)\n",
      "Requirement already satisfied: flask-compress in /opt/anaconda3/envs/lite_bo/lib/python3.7/site-packages (from hiplot) (1.9.0)\n",
      "Requirement already satisfied: beautifulsoup4 in /opt/anaconda3/envs/lite_bo/lib/python3.7/site-packages (from hiplot) (4.9.3)\n",
      "Requirement already satisfied: Werkzeug>=0.15 in /opt/anaconda3/envs/lite_bo/lib/python3.7/site-packages (from flask->hiplot) (1.0.1)\n",
      "Requirement already satisfied: Jinja2>=2.10.1 in /opt/anaconda3/envs/lite_bo/lib/python3.7/site-packages (from flask->hiplot) (2.11.2)\n",
      "Requirement already satisfied: itsdangerous>=0.24 in /opt/anaconda3/envs/lite_bo/lib/python3.7/site-packages (from flask->hiplot) (1.1.0)\n",
      "Requirement already satisfied: click>=5.1 in /opt/anaconda3/envs/lite_bo/lib/python3.7/site-packages (from flask->hiplot) (7.1.2)\n",
      "Requirement already satisfied: backcall in /opt/anaconda3/envs/lite_bo/lib/python3.7/site-packages (from ipython>=7.0.1->hiplot) (0.2.0)\n",
      "Requirement already satisfied: pickleshare in /opt/anaconda3/envs/lite_bo/lib/python3.7/site-packages (from ipython>=7.0.1->hiplot) (0.7.5)\n",
      "Requirement already satisfied: appnope; sys_platform == \"darwin\" in /opt/anaconda3/envs/lite_bo/lib/python3.7/site-packages (from ipython>=7.0.1->hiplot) (0.1.2)\n",
      "Requirement already satisfied: pygments in /opt/anaconda3/envs/lite_bo/lib/python3.7/site-packages (from ipython>=7.0.1->hiplot) (2.7.2)\n",
      "Requirement already satisfied: decorator in /opt/anaconda3/envs/lite_bo/lib/python3.7/site-packages (from ipython>=7.0.1->hiplot) (4.4.2)\n",
      "Requirement already satisfied: pexpect>4.3; sys_platform != \"win32\" in /opt/anaconda3/envs/lite_bo/lib/python3.7/site-packages (from ipython>=7.0.1->hiplot) (4.8.0)\n",
      "Requirement already satisfied: setuptools>=18.5 in /opt/anaconda3/envs/lite_bo/lib/python3.7/site-packages (from ipython>=7.0.1->hiplot) (50.3.0.post20201006)\n",
      "Requirement already satisfied: jedi>=0.10 in /opt/anaconda3/envs/lite_bo/lib/python3.7/site-packages (from ipython>=7.0.1->hiplot) (0.17.2)\n",
      "Requirement already satisfied: traitlets>=4.2 in /opt/anaconda3/envs/lite_bo/lib/python3.7/site-packages (from ipython>=7.0.1->hiplot) (5.0.5)\n",
      "Requirement already satisfied: prompt-toolkit!=3.0.0,!=3.0.1,<3.1.0,>=2.0.0 in /opt/anaconda3/envs/lite_bo/lib/python3.7/site-packages (from ipython>=7.0.1->hiplot) (3.0.8)\n",
      "Requirement already satisfied: brotli in /opt/anaconda3/envs/lite_bo/lib/python3.7/site-packages (from flask-compress->hiplot) (1.0.9)\n",
      "Requirement already satisfied: soupsieve>1.2; python_version >= \"3.0\" in /opt/anaconda3/envs/lite_bo/lib/python3.7/site-packages (from beautifulsoup4->hiplot) (2.2)\n",
      "Requirement already satisfied: MarkupSafe>=0.23 in /opt/anaconda3/envs/lite_bo/lib/python3.7/site-packages (from Jinja2>=2.10.1->flask->hiplot) (1.1.1)\n",
      "Requirement already satisfied: ptyprocess>=0.5 in /opt/anaconda3/envs/lite_bo/lib/python3.7/site-packages (from pexpect>4.3; sys_platform != \"win32\"->ipython>=7.0.1->hiplot) (0.6.0)\n",
      "Requirement already satisfied: parso<0.8.0,>=0.7.0 in /opt/anaconda3/envs/lite_bo/lib/python3.7/site-packages (from jedi>=0.10->ipython>=7.0.1->hiplot) (0.7.1)\n",
      "Requirement already satisfied: ipython-genutils in /opt/anaconda3/envs/lite_bo/lib/python3.7/site-packages (from traitlets>=4.2->ipython>=7.0.1->hiplot) (0.2.0)\n",
      "Requirement already satisfied: wcwidth in /opt/anaconda3/envs/lite_bo/lib/python3.7/site-packages (from prompt-toolkit!=3.0.0,!=3.0.1,<3.1.0,>=2.0.0->ipython>=7.0.1->hiplot) (0.2.5)\n"
     ]
    }
   ],
   "source": [
    "!pip install hiplot"
   ]
  },
  {
   "cell_type": "code",
   "execution_count": 2,
   "metadata": {},
   "outputs": [],
   "source": [
    "import os\n",
    "import sys\n",
    "import time\n",
    "import numpy as np\n",
    "import pickle as pkl\n",
    "import hiplot as hip"
   ]
  },
  {
   "cell_type": "code",
   "execution_count": 3,
   "metadata": {},
   "outputs": [
    {
     "name": "stderr",
     "output_type": "stream",
     "text": [
      "/opt/anaconda3/envs/lite_bo/lib/python3.7/site-packages/pyparsing.py:3190: FutureWarning: Possible set intersection at position 3\n",
      "  self.re = re.compile(self.reString)\n"
     ]
    }
   ],
   "source": [
    "from litebo.optimizer.generic_smbo import SMBO\n",
    "from test.reproduction.so.so_benchmark_function import get_problem\n",
    "from test.reproduction.test_utils import timeit, seeds"
   ]
  },
  {
   "cell_type": "code",
   "execution_count": 4,
   "metadata": {},
   "outputs": [],
   "source": [
    "problem_str = 'branin'\n",
    "max_runs = 10\n",
    "initial_runs = 3\n",
    "init_strategy = 'random_explore_first'\n",
    "surrogate_type = 'gp'\n",
    "optimizer_str = 'scipy'\n",
    "if optimizer_str == 'scipy':\n",
    "    acq_optimizer_type = 'random_scipy'\n",
    "elif optimizer_str == 'local':\n",
    "    acq_optimizer_type = 'local_random'\n",
    "else:\n",
    "    raise ValueError('Unknown optimizer %s' % args.optimizer)\n",
    "rep = 1\n",
    "start_id = 0\n",
    "mth = 'litebo'\n",
    "\n",
    "problem = get_problem(problem_str)\n",
    "cs = problem.get_configspace(optimizer='smac')\n",
    "time_limit_per_trial = 600\n",
    "task_id = '%s_%s' % (mth, problem_str)"
   ]
  },
  {
   "cell_type": "markdown",
   "metadata": {},
   "source": [
    "# Train and get the config_list and perf_list"
   ]
  },
  {
   "cell_type": "code",
   "execution_count": 5,
   "metadata": {},
   "outputs": [
    {
     "name": "stdout",
     "output_type": "stream",
     "text": [
      "[litebo all]Start.\n",
      "[litebo 0 4774]Start.\n",
      "litebo 0 4774 ===== start =====\n",
      "[INFO] [2021-03-17 22:54:07,055:Lite-BO-litebo_branin-[2021-03-17 22:54:07]] In the 1-th iteration, the objective value: (24.129964413622268,)\n",
      "4774 0 (24.129964413622268,) Configuration:\n",
      "  x1, Value: 2.5\n",
      "  x2, Value: 7.5\n",
      " 0 None time= 0.022910118103027344\n",
      "[INFO] [2021-03-17 22:54:07,079:Lite-BO-litebo_branin-[2021-03-17 22:54:07]] In the 2-th iteration, the objective value: (266.87545772568916,)\n",
      "4774 1 (266.87545772568916,) Configuration:\n",
      "  x1, Value: -4.650963559365345\n",
      "  x2, Value: 0.15097536559954217\n",
      " 0 None time= 0.046996116638183594\n",
      "[INFO] [2021-03-17 22:54:07,104:Lite-BO-litebo_branin-[2021-03-17 22:54:07]] In the 3-th iteration, the objective value: (112.99109683630043,)\n",
      "4774 2 (112.99109683630043,) Configuration:\n",
      "  x1, Value: 9.868015819326814\n",
      "  x2, Value: 13.441442125698543\n",
      " 0 None time= 0.07118701934814453\n",
      "[INFO] [2021-03-17 22:54:07,449:Lite-BO-litebo_branin-[2021-03-17 22:54:07]] In the 4-th iteration, the objective value: (47.896748319314426,)\n",
      "4774 3 (47.896748319314426,) Configuration:\n",
      "  x1, Value: 4.53859534106417\n",
      "  x2, Value: 7.72710041549182\n",
      " 0 None time= 0.4164700508117676\n",
      "[INFO] [2021-03-17 22:54:08,091:Lite-BO-litebo_branin-[2021-03-17 22:54:07]] In the 5-th iteration, the objective value: (24.754131850440363,)\n",
      "4774 4 (24.754131850440363,) Configuration:\n",
      "  x1, Value: -2.9470342311735314\n",
      "  x2, Value: 6.895503183087984\n",
      " 0 None time= 1.059386968612671\n",
      "[INFO] [2021-03-17 22:54:08,612:Lite-BO-litebo_branin-[2021-03-17 22:54:07]] In the 6-th iteration, the objective value: (44.20573285803001,)\n",
      "4774 5 (44.20573285803001,) Configuration:\n",
      "  x1, Value: 7.340308001353556\n",
      "  x2, Value: 6.708248457423043\n",
      " 0 None time= 1.5803050994873047\n",
      "[INFO] [2021-03-17 22:54:09,056:Lite-BO-litebo_branin-[2021-03-17 22:54:07]] In the 7-th iteration, the objective value: (19.88524657840387,)\n",
      "4774 6 (19.88524657840387,) Configuration:\n",
      "  x1, Value: 1.1332381219321883\n",
      "  x2, Value: 6.774051094740018\n",
      " 0 None time= 2.0239250659942627\n",
      "[INFO] [2021-03-17 22:54:09,564:Lite-BO-litebo_branin-[2021-03-17 22:54:07]] In the 8-th iteration, the objective value: (89.86067243644428,)\n",
      "4774 7 (89.86067243644428,) Configuration:\n",
      "  x1, Value: -5.0\n",
      "  x2, Value: 8.404597437398893\n",
      " 0 None time= 2.532166004180908\n",
      "[INFO] [2021-03-17 22:54:10,083:Lite-BO-litebo_branin-[2021-03-17 22:54:07]] In the 9-th iteration, the objective value: (22.158828527258798,)\n",
      "4774 8 (22.158828527258798,) Configuration:\n",
      "  x1, Value: 0.8299045316135079\n",
      "  x2, Value: 7.1509790911646025\n",
      " 0 None time= 3.0511109828948975\n",
      "[INFO] [2021-03-17 22:54:10,615:Lite-BO-litebo_branin-[2021-03-17 22:54:07]] In the 10-th iteration, the objective value: (146.36200226791502,)\n",
      "4774 9 (146.36200226791502,) Configuration:\n",
      "  x1, Value: -5.0\n",
      "  x2, Value: 5.627158932919043\n",
      " 0 None time= 3.5832479000091553\n"
     ]
    },
    {
     "data": {
      "text/plain": [
       "<IPython.core.display.Javascript object>"
      ]
     },
     "metadata": {},
     "output_type": "display_data"
    },
    {
     "data": {
      "text/html": [
       "<!DOCTYPE html>\n",
       "<html>\n",
       "  <head>\n",
       "    <meta http-equiv=\"Content-Type\" content=\"text/html;charset=utf-8\"/>\n",
       "    <title>HiPlot</title>\n",
       "    <link rel=\"icon\" href=\"static/icon.png\" />\n",
       "  </head>\n",
       "  <body style=\"margin:0px\">\n",
       "    <div id=\"hiplot_43af2de9702a4e7c9e2cee478e7e0df2\" style=\"background-color: white\"><div style=\"text-align: center\">Loading HiPlot...</div>\n",
       "      <noscript>\n",
       "        HiPlot needs JavaScript to run\n",
       "      </noscript>\n",
       "    </div>\n",
       "\n",
       "    <script  type=\"text/javascript\" ></script>\n",
       "    <script type=\"text/javascript\">\n",
       "    function _hiplot_setup() {\n",
       "      if (typeof hiplot == \"undefined\") {\n",
       "        console.info(\"waiting for HiPlot bundle to be loaded...\");\n",
       "        setTimeout(_hiplot_setup, 1000);\n",
       "        return;\n",
       "      }\n",
       "      var options = {};\n",
       "      /*ON_LOAD_SCRIPT_INJECT*/\n",
       "const comm_id = \"comm_a00563\";\n",
       "try {\n",
       "    console.log(\"Setting up communication channel with Jupyter: \", comm_id);\n",
       "    const comm = Jupyter.notebook.kernel.comm_manager.new_comm(comm_id, {'type': 'hello'});\n",
       "    var comm_message_id = 0;\n",
       "    function send_data_change(type, data) {\n",
       "        comm.send({\n",
       "            'type': type,\n",
       "            'message_id': comm_message_id,\n",
       "            'data': data,\n",
       "        });\n",
       "        comm_message_id += 1;\n",
       "    };\n",
       "    Object.assign(options, {\"on_change\": {\n",
       "        \"selected_uids\": send_data_change,\n",
       "        \"brush_extents\": send_data_change,\n",
       "    }});\n",
       "}\n",
       "catch(err) {\n",
       "    console.warn('Unable to create Javascript <-> Python communication channel' +\n",
       "        ' (are you in a Jupyter notebook? Jupyter labs is *not* supported!)');\n",
       "}\n",
       "        \n",
       "        Object.assign(options, eval('(' + \"{\\\"dataProviderName\\\": \\\"none\\\", \\\"experiment\\\": {\\\"parameters_definition\\\": {}, \\\"colormap\\\": \\\"interpolateTurbo\\\", \\\"colorby\\\": null, \\\"display_data\\\": {}, \\\"datapoints\\\": [{\\\"uid\\\": \\\"0\\\", \\\"values\\\": {\\\"x1\\\": 2.5, \\\"x2\\\": 7.5, \\\"perf\\\": 24.129964413622268}, \\\"from_uid\\\": null}, {\\\"uid\\\": \\\"1\\\", \\\"values\\\": {\\\"x1\\\": -4.650963559365345, \\\"x2\\\": 0.15097536559954217, \\\"perf\\\": 266.87545772568916}, \\\"from_uid\\\": null}, {\\\"uid\\\": \\\"2\\\", \\\"values\\\": {\\\"x1\\\": 9.868015819326814, \\\"x2\\\": 13.441442125698543, \\\"perf\\\": 112.99109683630043}, \\\"from_uid\\\": null}, {\\\"uid\\\": \\\"3\\\", \\\"values\\\": {\\\"x1\\\": 4.53859534106417, \\\"x2\\\": 7.72710041549182, \\\"perf\\\": 47.896748319314426}, \\\"from_uid\\\": null}, {\\\"uid\\\": \\\"4\\\", \\\"values\\\": {\\\"x1\\\": -2.9470342311735314, \\\"x2\\\": 6.895503183087984, \\\"perf\\\": 24.754131850440363}, \\\"from_uid\\\": null}, {\\\"uid\\\": \\\"5\\\", \\\"values\\\": {\\\"x1\\\": 7.340308001353556, \\\"x2\\\": 6.708248457423043, \\\"perf\\\": 44.20573285803001}, \\\"from_uid\\\": null}, {\\\"uid\\\": \\\"6\\\", \\\"values\\\": {\\\"x1\\\": 1.1332381219321883, \\\"x2\\\": 6.774051094740018, \\\"perf\\\": 19.88524657840387}, \\\"from_uid\\\": null}, {\\\"uid\\\": \\\"7\\\", \\\"values\\\": {\\\"x1\\\": -5.0, \\\"x2\\\": 8.404597437398893, \\\"perf\\\": 89.86067243644428}, \\\"from_uid\\\": null}, {\\\"uid\\\": \\\"8\\\", \\\"values\\\": {\\\"x1\\\": 0.8299045316135079, \\\"x2\\\": 7.1509790911646025, \\\"perf\\\": 22.158828527258798}, \\\"from_uid\\\": null}, {\\\"uid\\\": \\\"9\\\", \\\"values\\\": {\\\"x1\\\": -5.0, \\\"x2\\\": 5.627158932919043, \\\"perf\\\": 146.36200226791502}, \\\"from_uid\\\": null}]}, \\\"persistentState\\\": null}\" + ')'));\n",
       "        \n",
       "      var hiplot_instance = hiplot.render(document.getElementById(\"hiplot_43af2de9702a4e7c9e2cee478e7e0df2\"), options);\n",
       "      Object.assign(window, {'hiplot_last_instance': hiplot_instance});  // For debugging\n",
       "      /*AFTER_SETUP_SCRIPT_INJECT*/\n",
       "    }\n",
       "    if (document.readyState == \"complete\") {\n",
       "      _hiplot_setup();\n",
       "    }\n",
       "    else {\n",
       "      document.addEventListener(\"DOMContentLoaded\", _hiplot_setup);\n",
       "    }\n",
       "    </script>\n",
       "  </body>\n",
       "</html>"
      ],
      "text/plain": [
       "<IPython.core.display.HTML object>"
      ]
     },
     "metadata": {},
     "output_type": "execute_result"
    },
    {
     "name": "stdout",
     "output_type": "stream",
     "text": [
      "====================\n",
      "4774 litebo [Configuration:\n",
      "  x1, Value: 2.5\n",
      "  x2, Value: 7.5\n",
      ", Configuration:\n",
      "  x1, Value: -4.650963559365345\n",
      "  x2, Value: 0.15097536559954217\n",
      ", Configuration:\n",
      "  x1, Value: 9.868015819326814\n",
      "  x2, Value: 13.441442125698543\n",
      ", Configuration:\n",
      "  x1, Value: 4.53859534106417\n",
      "  x2, Value: 7.72710041549182\n",
      ", Configuration:\n",
      "  x1, Value: -2.9470342311735314\n",
      "  x2, Value: 6.895503183087984\n",
      ", Configuration:\n",
      "  x1, Value: 7.340308001353556\n",
      "  x2, Value: 6.708248457423043\n",
      ", Configuration:\n",
      "  x1, Value: 1.1332381219321883\n",
      "  x2, Value: 6.774051094740018\n",
      ", Configuration:\n",
      "  x1, Value: -5.0\n",
      "  x2, Value: 8.404597437398893\n",
      ", Configuration:\n",
      "  x1, Value: 0.8299045316135079\n",
      "  x2, Value: 7.1509790911646025\n",
      ", Configuration:\n",
      "  x1, Value: -5.0\n",
      "  x2, Value: 5.627158932919043\n",
      "] [24.129964413622268, 266.87545772568916, 112.99109683630043, 47.896748319314426, 24.754131850440363, 44.20573285803001, 19.88524657840387, 89.86067243644428, 22.158828527258798, 146.36200226791502] [0.022910118103027344, 0.046996116638183594, 0.07118701934814453, 0.4164700508117676, 1.059386968612671, 1.5803050994873047, 2.0239250659942627, 2.532166004180908, 3.0511109828948975, 3.5832479000091553]\n",
      "4774 litebo best perf 19.88524657840387\n",
      "logs/so_benchmark_branin_10/litebo/ benchmark_litebo_4774_2021-03-17-22-54-10.pkl saved!\n",
      "[litebo 0 4774]Total time = 0 hours, 0 minutes, 3 seconds.\n",
      "[litebo all]Total time = 0 hours, 0 minutes, 3 seconds.\n"
     ]
    }
   ],
   "source": [
    "def evaluate(mth, run_i, seed):\n",
    "    print(mth, run_i, seed, '===== start =====', flush=True)\n",
    "\n",
    "    def objective_function(config):\n",
    "        y = problem.evaluate_config(config)\n",
    "        res = dict()\n",
    "        res['config'] = config\n",
    "        res['objs'] = (y,)\n",
    "        res['constraints'] = None\n",
    "        return res\n",
    "\n",
    "    bo = SMBO(objective_function, cs,\n",
    "              surrogate_type=surrogate_type,            # default: gp\n",
    "              acq_optimizer_type=acq_optimizer_type,    # default: random_scipy\n",
    "              initial_runs=initial_runs,                # default: 3\n",
    "              init_strategy=init_strategy,              # default: random_explore_first\n",
    "              max_runs=max_runs,\n",
    "              time_limit_per_trial=time_limit_per_trial, task_id=task_id, random_state=seed)\n",
    "    # bo.run()\n",
    "    config_list = []\n",
    "    perf_list = []\n",
    "    time_list = []\n",
    "    global_start_time = time.time()\n",
    "    for i in range(max_runs):\n",
    "        config, trial_state, objs, trial_info = bo.iterate()\n",
    "        global_time = time.time() - global_start_time\n",
    "        print(seed, i, objs, config, trial_state, trial_info, 'time=', global_time)\n",
    "        config_list.append(config)\n",
    "        perf_list.append(objs[0])\n",
    "        time_list.append(global_time)\n",
    "    \n",
    "    try:\n",
    "        bo.visualize_jupyter()\n",
    "    except:\n",
    "        raise NotImplementedError('bo.visualize_jupyter() meet some problems')\n",
    "    \n",
    "    return config_list, perf_list, time_list\n",
    "\n",
    "\n",
    "with timeit('%s all' % (mth,)):\n",
    "    for run_i in range(start_id, start_id + rep):\n",
    "        seed = seeds[run_i]\n",
    "        with timeit('%s %d %d' % (mth, run_i, seed)):\n",
    "            # Evaluate\n",
    "            config_list, perf_list, time_list = evaluate(mth, run_i, seed)\n",
    "\n",
    "            # Save result\n",
    "            print('=' * 20)\n",
    "            print(seed, mth, config_list, perf_list, time_list)\n",
    "            print(seed, mth, 'best perf', np.min(perf_list))\n",
    "\n",
    "            timestamp = time.strftime('%Y-%m-%d-%H-%M-%S', time.localtime(time.time()))\n",
    "            dir_path = 'logs/so_benchmark_%s_%d/%s/' % (problem_str, max_runs, mth)\n",
    "            file = 'benchmark_%s_%04d_%s.pkl' % (mth, seed, timestamp)\n",
    "            if not os.path.exists(dir_path):\n",
    "                os.makedirs(dir_path)\n",
    "            with open(os.path.join(dir_path, file), 'wb') as f:\n",
    "                save_item = (config_list, perf_list, time_list)\n",
    "                pkl.dump(save_item, f)\n",
    "            print(dir_path, file, 'saved!', flush=True)"
   ]
  },
  {
   "cell_type": "code",
   "execution_count": 6,
   "metadata": {},
   "outputs": [
    {
     "ename": "NameError",
     "evalue": "name 'bo' is not defined",
     "traceback": [
      "\u001b[0;31m---------------------------------------------------------------------------\u001b[0m",
      "\u001b[0;31mNameError\u001b[0m                                 Traceback (most recent call last)",
      "\u001b[0;32m<ipython-input-6-386a901a9664>\u001b[0m in \u001b[0;36m<module>\u001b[0;34m\u001b[0m\n\u001b[0;32m----> 1\u001b[0;31m \u001b[0mbo\u001b[0m\u001b[0;34m\u001b[0m\u001b[0;34m\u001b[0m\u001b[0m\n\u001b[0m",
      "\u001b[0;31mNameError\u001b[0m: name 'bo' is not defined"
     ],
     "output_type": "error"
    }
   ],
   "source": [
    "bo"
   ]
  },
  {
   "cell_type": "code",
   "execution_count": null,
   "metadata": {},
   "outputs": [],
   "source": []
  },
  {
   "cell_type": "code",
   "execution_count": null,
   "metadata": {},
   "outputs": [],
   "source": []
  },
  {
   "cell_type": "code",
   "execution_count": null,
   "metadata": {},
   "outputs": [],
   "source": []
  },
  {
   "cell_type": "code",
   "execution_count": null,
   "metadata": {},
   "outputs": [],
   "source": []
  },
  {
   "cell_type": "code",
   "execution_count": null,
   "metadata": {},
   "outputs": [],
   "source": [
    "config_list"
   ]
  },
  {
   "cell_type": "code",
   "execution_count": null,
   "metadata": {},
   "outputs": [],
   "source": [
    "config_list[0]"
   ]
  },
  {
   "cell_type": "code",
   "execution_count": null,
   "metadata": {},
   "outputs": [],
   "source": [
    "type(config_list[0])"
   ]
  },
  {
   "cell_type": "code",
   "execution_count": null,
   "metadata": {},
   "outputs": [],
   "source": [
    "config_list[0].get_dictionary()"
   ]
  },
  {
   "cell_type": "code",
   "execution_count": null,
   "metadata": {},
   "outputs": [],
   "source": [
    "perf_list[0]"
   ]
  },
  {
   "cell_type": "markdown",
   "metadata": {},
   "source": [
    "# prepare the visualize_data"
   ]
  },
  {
   "cell_type": "code",
   "execution_count": null,
   "metadata": {},
   "outputs": [],
   "source": [
    "visualize_data = []\n",
    "for config in config_list:\n",
    "    visualize_data.append(config.get_dictionary())\n",
    "for tmp1, tmp2 in zip(visualize_data, perf_list):\n",
    "    tmp1['perf'] = tmp2"
   ]
  },
  {
   "cell_type": "code",
   "execution_count": null,
   "metadata": {},
   "outputs": [],
   "source": [
    "visualize_data"
   ]
  },
  {
   "cell_type": "code",
   "execution_count": null,
   "metadata": {},
   "outputs": [],
   "source": [
    "hip.Experiment.from_iterable(visualize_data).display()"
   ]
  },
  {
   "cell_type": "code",
   "execution_count": null,
   "metadata": {},
   "outputs": [],
   "source": []
  }
 ],
 "metadata": {
  "kernelspec": {
   "display_name": "Python 3",
   "language": "python",
   "name": "python3"
  },
  "language_info": {
   "codemirror_mode": {
    "name": "ipython",
    "version": 3
   },
   "file_extension": ".py",
   "mimetype": "text/x-python",
   "name": "python",
   "nbconvert_exporter": "python",
   "pygments_lexer": "ipython3",
   "version": "3.7.9"
  }
 },
 "nbformat": 4,
 "nbformat_minor": 4
}
